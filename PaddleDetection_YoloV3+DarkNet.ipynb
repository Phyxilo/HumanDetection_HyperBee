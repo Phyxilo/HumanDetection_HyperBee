{
  "cells": [
    {
      "cell_type": "code",
      "execution_count": 1,
      "metadata": {
        "colab": {
          "base_uri": "https://localhost:8080/"
        },
        "id": "HoJlPHX3yQnX",
        "outputId": "a4c68c09-d046-43c9-a972-5448a647480e"
      },
      "outputs": [
        {
          "name": "stdout",
          "output_type": "stream",
          "text": [
            "Cloning into 'PaddleDetection'...\n",
            "remote: Enumerating objects: 258348, done.\u001b[K\n",
            "remote: Counting objects: 100% (769/769), done.\u001b[K\n",
            "remote: Compressing objects: 100% (388/388), done.\u001b[K\n",
            "remote: Total 258348 (delta 619), reused 381 (delta 381), pack-reused 257579 (from 3)\u001b[K\n",
            "Receiving objects: 100% (258348/258348), 422.20 MiB | 29.41 MiB/s, done.\n",
            "Resolving deltas: 100% (210513/210513), done.\n"
          ]
        }
      ],
      "source": [
        "!git clone https://github.com/PaddlePaddle/PaddleDetection.git"
      ]
    },
    {
      "cell_type": "code",
      "execution_count": 1,
      "metadata": {
        "colab": {
          "base_uri": "https://localhost:8080/"
        },
        "id": "nRz3hW8rygn3",
        "outputId": "936a3d5e-b34e-48c6-e135-3febb1f89e8b"
      },
      "outputs": [
        {
          "name": "stdout",
          "output_type": "stream",
          "text": [
            "Requirement already satisfied: numpy<2.0 in /usr/local/lib/python3.12/dist-packages (from -r PaddleDetection/requirements.txt (line 1)) (1.26.4)\n",
            "Requirement already satisfied: tqdm in /usr/local/lib/python3.12/dist-packages (from -r PaddleDetection/requirements.txt (line 2)) (4.67.1)\n",
            "Requirement already satisfied: typeguard in /usr/local/lib/python3.12/dist-packages (from -r PaddleDetection/requirements.txt (line 3)) (4.4.4)\n",
            "Requirement already satisfied: visualdl>=2.2.0 in /usr/local/lib/python3.12/dist-packages (from -r PaddleDetection/requirements.txt (line 4)) (2.5.3)\n",
            "Requirement already satisfied: opencv-python<=4.6.0 in /usr/local/lib/python3.12/dist-packages (from -r PaddleDetection/requirements.txt (line 5)) (4.5.5.64)\n",
            "Requirement already satisfied: PyYAML in /usr/local/lib/python3.12/dist-packages (from -r PaddleDetection/requirements.txt (line 6)) (6.0.2)\n",
            "Requirement already satisfied: shapely in /usr/local/lib/python3.12/dist-packages (from -r PaddleDetection/requirements.txt (line 7)) (2.1.1)\n",
            "Requirement already satisfied: scipy in /usr/local/lib/python3.12/dist-packages (from -r PaddleDetection/requirements.txt (line 8)) (1.16.1)\n",
            "Requirement already satisfied: terminaltables in /usr/local/lib/python3.12/dist-packages (from -r PaddleDetection/requirements.txt (line 9)) (3.1.10)\n",
            "Requirement already satisfied: Cython in /usr/local/lib/python3.12/dist-packages (from -r PaddleDetection/requirements.txt (line 10)) (3.0.12)\n",
            "Requirement already satisfied: pycocotools in /usr/local/lib/python3.12/dist-packages (from -r PaddleDetection/requirements.txt (line 11)) (2.0.10)\n",
            "Requirement already satisfied: setuptools in /usr/local/lib/python3.12/dist-packages (from -r PaddleDetection/requirements.txt (line 12)) (75.2.0)\n",
            "Requirement already satisfied: Pillow in /usr/local/lib/python3.12/dist-packages (from -r PaddleDetection/requirements.txt (line 13)) (11.3.0)\n",
            "Requirement already satisfied: packaging in /usr/local/lib/python3.12/dist-packages (from -r PaddleDetection/requirements.txt (line 14)) (25.0)\n",
            "Requirement already satisfied: lapx in /usr/local/lib/python3.12/dist-packages (from -r PaddleDetection/requirements.txt (line 17)) (0.5.12)\n",
            "Requirement already satisfied: motmetrics in /usr/local/lib/python3.12/dist-packages (from -r PaddleDetection/requirements.txt (line 18)) (1.4.0)\n",
            "Requirement already satisfied: sklearn==0.0 in /usr/local/lib/python3.12/dist-packages (from -r PaddleDetection/requirements.txt (line 19)) (0.0)\n",
            "Requirement already satisfied: pyclipper in /usr/local/lib/python3.12/dist-packages (from -r PaddleDetection/requirements.txt (line 22)) (1.3.0.post6)\n",
            "Requirement already satisfied: imgaug>=0.4.0 in /usr/local/lib/python3.12/dist-packages (from -r PaddleDetection/requirements.txt (line 25)) (0.4.0)\n",
            "Requirement already satisfied: scikit-learn in /usr/local/lib/python3.12/dist-packages (from sklearn==0.0->-r PaddleDetection/requirements.txt (line 19)) (1.6.1)\n",
            "Requirement already satisfied: typing_extensions>=4.14.0 in /usr/local/lib/python3.12/dist-packages (from typeguard->-r PaddleDetection/requirements.txt (line 3)) (4.15.0)\n",
            "Requirement already satisfied: bce-python-sdk in /usr/local/lib/python3.12/dist-packages (from visualdl>=2.2.0->-r PaddleDetection/requirements.txt (line 4)) (0.9.45)\n",
            "Requirement already satisfied: flask>=1.1.1 in /usr/local/lib/python3.12/dist-packages (from visualdl>=2.2.0->-r PaddleDetection/requirements.txt (line 4)) (3.1.2)\n",
            "Requirement already satisfied: Flask-Babel>=3.0.0 in /usr/local/lib/python3.12/dist-packages (from visualdl>=2.2.0->-r PaddleDetection/requirements.txt (line 4)) (4.0.0)\n",
            "Requirement already satisfied: protobuf>=3.20.0 in /usr/local/lib/python3.12/dist-packages (from visualdl>=2.2.0->-r PaddleDetection/requirements.txt (line 4)) (5.29.5)\n",
            "Requirement already satisfied: requests in /usr/local/lib/python3.12/dist-packages (from visualdl>=2.2.0->-r PaddleDetection/requirements.txt (line 4)) (2.32.4)\n",
            "Requirement already satisfied: six>=1.14.0 in /usr/local/lib/python3.12/dist-packages (from visualdl>=2.2.0->-r PaddleDetection/requirements.txt (line 4)) (1.17.0)\n",
            "Requirement already satisfied: matplotlib in /usr/local/lib/python3.12/dist-packages (from visualdl>=2.2.0->-r PaddleDetection/requirements.txt (line 4)) (3.10.0)\n",
            "Requirement already satisfied: pandas in /usr/local/lib/python3.12/dist-packages (from visualdl>=2.2.0->-r PaddleDetection/requirements.txt (line 4)) (2.2.2)\n",
            "Requirement already satisfied: rarfile in /usr/local/lib/python3.12/dist-packages (from visualdl>=2.2.0->-r PaddleDetection/requirements.txt (line 4)) (4.2)\n",
            "Requirement already satisfied: psutil in /usr/local/lib/python3.12/dist-packages (from visualdl>=2.2.0->-r PaddleDetection/requirements.txt (line 4)) (5.9.5)\n",
            "Requirement already satisfied: xmltodict>=0.12.0 in /usr/local/lib/python3.12/dist-packages (from motmetrics->-r PaddleDetection/requirements.txt (line 18)) (0.15.0)\n",
            "Requirement already satisfied: scikit-image>=0.14.2 in /usr/local/lib/python3.12/dist-packages (from imgaug>=0.4.0->-r PaddleDetection/requirements.txt (line 25)) (0.25.2)\n",
            "Requirement already satisfied: imageio in /usr/local/lib/python3.12/dist-packages (from imgaug>=0.4.0->-r PaddleDetection/requirements.txt (line 25)) (2.37.0)\n",
            "Requirement already satisfied: blinker>=1.9.0 in /usr/local/lib/python3.12/dist-packages (from flask>=1.1.1->visualdl>=2.2.0->-r PaddleDetection/requirements.txt (line 4)) (1.9.0)\n",
            "Requirement already satisfied: click>=8.1.3 in /usr/local/lib/python3.12/dist-packages (from flask>=1.1.1->visualdl>=2.2.0->-r PaddleDetection/requirements.txt (line 4)) (8.2.1)\n",
            "Requirement already satisfied: itsdangerous>=2.2.0 in /usr/local/lib/python3.12/dist-packages (from flask>=1.1.1->visualdl>=2.2.0->-r PaddleDetection/requirements.txt (line 4)) (2.2.0)\n",
            "Requirement already satisfied: jinja2>=3.1.2 in /usr/local/lib/python3.12/dist-packages (from flask>=1.1.1->visualdl>=2.2.0->-r PaddleDetection/requirements.txt (line 4)) (3.1.6)\n",
            "Requirement already satisfied: markupsafe>=2.1.1 in /usr/local/lib/python3.12/dist-packages (from flask>=1.1.1->visualdl>=2.2.0->-r PaddleDetection/requirements.txt (line 4)) (3.0.2)\n",
            "Requirement already satisfied: werkzeug>=3.1.0 in /usr/local/lib/python3.12/dist-packages (from flask>=1.1.1->visualdl>=2.2.0->-r PaddleDetection/requirements.txt (line 4)) (3.1.3)\n",
            "Requirement already satisfied: Babel>=2.12 in /usr/local/lib/python3.12/dist-packages (from Flask-Babel>=3.0.0->visualdl>=2.2.0->-r PaddleDetection/requirements.txt (line 4)) (2.17.0)\n",
            "Requirement already satisfied: pytz>=2022.7 in /usr/local/lib/python3.12/dist-packages (from Flask-Babel>=3.0.0->visualdl>=2.2.0->-r PaddleDetection/requirements.txt (line 4)) (2025.2)\n",
            "Requirement already satisfied: python-dateutil>=2.8.2 in /usr/local/lib/python3.12/dist-packages (from pandas->visualdl>=2.2.0->-r PaddleDetection/requirements.txt (line 4)) (2.9.0.post0)\n",
            "Requirement already satisfied: tzdata>=2022.7 in /usr/local/lib/python3.12/dist-packages (from pandas->visualdl>=2.2.0->-r PaddleDetection/requirements.txt (line 4)) (2025.2)\n",
            "Requirement already satisfied: networkx>=3.0 in /usr/local/lib/python3.12/dist-packages (from scikit-image>=0.14.2->imgaug>=0.4.0->-r PaddleDetection/requirements.txt (line 25)) (3.5)\n",
            "Requirement already satisfied: tifffile>=2022.8.12 in /usr/local/lib/python3.12/dist-packages (from scikit-image>=0.14.2->imgaug>=0.4.0->-r PaddleDetection/requirements.txt (line 25)) (2025.8.28)\n",
            "Requirement already satisfied: lazy-loader>=0.4 in /usr/local/lib/python3.12/dist-packages (from scikit-image>=0.14.2->imgaug>=0.4.0->-r PaddleDetection/requirements.txt (line 25)) (0.4)\n",
            "Requirement already satisfied: pycryptodome>=3.8.0 in /usr/local/lib/python3.12/dist-packages (from bce-python-sdk->visualdl>=2.2.0->-r PaddleDetection/requirements.txt (line 4)) (3.23.0)\n",
            "Requirement already satisfied: future>=0.6.0 in /usr/local/lib/python3.12/dist-packages (from bce-python-sdk->visualdl>=2.2.0->-r PaddleDetection/requirements.txt (line 4)) (1.0.0)\n",
            "Requirement already satisfied: contourpy>=1.0.1 in /usr/local/lib/python3.12/dist-packages (from matplotlib->visualdl>=2.2.0->-r PaddleDetection/requirements.txt (line 4)) (1.3.3)\n",
            "Requirement already satisfied: cycler>=0.10 in /usr/local/lib/python3.12/dist-packages (from matplotlib->visualdl>=2.2.0->-r PaddleDetection/requirements.txt (line 4)) (0.12.1)\n",
            "Requirement already satisfied: fonttools>=4.22.0 in /usr/local/lib/python3.12/dist-packages (from matplotlib->visualdl>=2.2.0->-r PaddleDetection/requirements.txt (line 4)) (4.59.2)\n",
            "Requirement already satisfied: kiwisolver>=1.3.1 in /usr/local/lib/python3.12/dist-packages (from matplotlib->visualdl>=2.2.0->-r PaddleDetection/requirements.txt (line 4)) (1.4.9)\n",
            "Requirement already satisfied: pyparsing>=2.3.1 in /usr/local/lib/python3.12/dist-packages (from matplotlib->visualdl>=2.2.0->-r PaddleDetection/requirements.txt (line 4)) (3.2.3)\n",
            "Requirement already satisfied: charset_normalizer<4,>=2 in /usr/local/lib/python3.12/dist-packages (from requests->visualdl>=2.2.0->-r PaddleDetection/requirements.txt (line 4)) (3.4.3)\n",
            "Requirement already satisfied: idna<4,>=2.5 in /usr/local/lib/python3.12/dist-packages (from requests->visualdl>=2.2.0->-r PaddleDetection/requirements.txt (line 4)) (3.10)\n",
            "Requirement already satisfied: urllib3<3,>=1.21.1 in /usr/local/lib/python3.12/dist-packages (from requests->visualdl>=2.2.0->-r PaddleDetection/requirements.txt (line 4)) (2.5.0)\n",
            "Requirement already satisfied: certifi>=2017.4.17 in /usr/local/lib/python3.12/dist-packages (from requests->visualdl>=2.2.0->-r PaddleDetection/requirements.txt (line 4)) (2025.8.3)\n",
            "Requirement already satisfied: joblib>=1.2.0 in /usr/local/lib/python3.12/dist-packages (from scikit-learn->sklearn==0.0->-r PaddleDetection/requirements.txt (line 19)) (1.5.2)\n",
            "Requirement already satisfied: threadpoolctl>=3.1.0 in /usr/local/lib/python3.12/dist-packages (from scikit-learn->sklearn==0.0->-r PaddleDetection/requirements.txt (line 19)) (3.6.0)\n"
          ]
        }
      ],
      "source": [
        "!pip install -r PaddleDetection/requirements.txt"
      ]
    },
    {
      "cell_type": "code",
      "execution_count": 2,
      "metadata": {
        "colab": {
          "base_uri": "https://localhost:8080/"
        },
        "id": "CMqWFWPu5SIR",
        "outputId": "61791eb7-8c07-417b-9ae0-53f3886f7139"
      },
      "outputs": [
        {
          "name": "stdout",
          "output_type": "stream",
          "text": [
            "Collecting paddlepaddle-gpu\n",
            "  Downloading paddlepaddle_gpu-2.6.2-cp312-cp312-manylinux1_x86_64.whl.metadata (8.6 kB)\n",
            "Requirement already satisfied: httpx in /usr/local/lib/python3.12/dist-packages (from paddlepaddle-gpu) (0.28.1)\n",
            "Requirement already satisfied: numpy>=1.13 in /usr/local/lib/python3.12/dist-packages (from paddlepaddle-gpu) (1.26.4)\n",
            "Requirement already satisfied: Pillow in /usr/local/lib/python3.12/dist-packages (from paddlepaddle-gpu) (11.3.0)\n",
            "Requirement already satisfied: decorator in /usr/local/lib/python3.12/dist-packages (from paddlepaddle-gpu) (4.4.2)\n",
            "Collecting astor (from paddlepaddle-gpu)\n",
            "  Downloading astor-0.8.1-py2.py3-none-any.whl.metadata (4.2 kB)\n",
            "Collecting opt-einsum==3.3.0 (from paddlepaddle-gpu)\n",
            "  Downloading opt_einsum-3.3.0-py3-none-any.whl.metadata (6.5 kB)\n",
            "Requirement already satisfied: protobuf>=3.20.2 in /usr/local/lib/python3.12/dist-packages (from paddlepaddle-gpu) (5.29.5)\n",
            "Requirement already satisfied: anyio in /usr/local/lib/python3.12/dist-packages (from httpx->paddlepaddle-gpu) (4.10.0)\n",
            "Requirement already satisfied: certifi in /usr/local/lib/python3.12/dist-packages (from httpx->paddlepaddle-gpu) (2025.8.3)\n",
            "Requirement already satisfied: httpcore==1.* in /usr/local/lib/python3.12/dist-packages (from httpx->paddlepaddle-gpu) (1.0.9)\n",
            "Requirement already satisfied: idna in /usr/local/lib/python3.12/dist-packages (from httpx->paddlepaddle-gpu) (3.10)\n",
            "Requirement already satisfied: h11>=0.16 in /usr/local/lib/python3.12/dist-packages (from httpcore==1.*->httpx->paddlepaddle-gpu) (0.16.0)\n",
            "Requirement already satisfied: sniffio>=1.1 in /usr/local/lib/python3.12/dist-packages (from anyio->httpx->paddlepaddle-gpu) (1.3.1)\n",
            "Requirement already satisfied: typing_extensions>=4.5 in /usr/local/lib/python3.12/dist-packages (from anyio->httpx->paddlepaddle-gpu) (4.15.0)\n",
            "Downloading paddlepaddle_gpu-2.6.2-cp312-cp312-manylinux1_x86_64.whl (758.9 MB)\n",
            "\u001b[2K   \u001b[90m━━━━━━━━━━━━━━━━━━━━━━━━━━━━━━━━━━━━━━━━\u001b[0m \u001b[32m758.9/758.9 MB\u001b[0m \u001b[31m2.5 MB/s\u001b[0m eta \u001b[36m0:00:00\u001b[0m\n",
            "\u001b[?25hDownloading opt_einsum-3.3.0-py3-none-any.whl (65 kB)\n",
            "\u001b[2K   \u001b[90m━━━━━━━━━━━━━━━━━━━━━━━━━━━━━━━━━━━━━━━━\u001b[0m \u001b[32m65.5/65.5 kB\u001b[0m \u001b[31m4.6 MB/s\u001b[0m eta \u001b[36m0:00:00\u001b[0m\n",
            "\u001b[?25hDownloading astor-0.8.1-py2.py3-none-any.whl (27 kB)\n",
            "Installing collected packages: opt-einsum, astor, paddlepaddle-gpu\n",
            "  Attempting uninstall: opt-einsum\n",
            "    Found existing installation: opt_einsum 3.4.0\n",
            "    Uninstalling opt_einsum-3.4.0:\n",
            "      Successfully uninstalled opt_einsum-3.4.0\n",
            "Successfully installed astor-0.8.1 opt-einsum-3.3.0 paddlepaddle-gpu-2.6.2\n"
          ]
        }
      ],
      "source": [
        "!pip install paddlepaddle-gpu"
      ]
    },
    {
      "cell_type": "code",
      "execution_count": 3,
      "metadata": {
        "id": "Z30gQNTwlNg9"
      },
      "outputs": [],
      "source": [
        "# Video Path\n",
        "!video_path=/content/TB_F_TB2_4019-2025-07-10_12h08min00s036ms.mp4"
      ]
    },
    {
      "cell_type": "code",
      "execution_count": null,
      "metadata": {
        "colab": {
          "base_uri": "https://localhost:8080/",
          "height": 454
        },
        "id": "sh96tja3GfGN",
        "outputId": "f9fc8443-791a-427c-b7e7-f572e62b9eec"
      },
      "outputs": [
        {
          "name": "stdout",
          "output_type": "stream",
          "text": [
            "[09/06 05:53:13] ppdet.utils.checkpoint INFO: Skipping import of the encryption module.\n"
          ]
        },
        {
          "name": "stderr",
          "output_type": "stream",
          "text": [
            "Warning: import ppdet from source directory without installing, run 'python setup.py install' to install ppdet firstly\n",
            "E0906 05:53:13.431186 12624 place.cc:333] Cannot use GPU because there is no GPU detected on your machine.\n"
          ]
        },
        {
          "ename": "CalledProcessError",
          "evalue": "Command 'b'set -e\\nCFG=/content/PaddleDetection/configs/mot/jde/jde_darknet53_30e_1088x608.yml\\n\\nCUDA_VISIBLE_DEVICES=0 python /content/PaddleDetection/tools/infer_mot.py \\\\\\n  -c \"$CFG\" \\\\\\n  -o weights=https://paddledet.bj.bcebos.com/models/mot/jde/jde_darknet53_30e_1088x608.pdparams \\\\\\n  --video_file=\"$video_path\" \\\\\\n  --save_videos\\n'' returned non-zero exit status 255.",
          "output_type": "error",
          "traceback": [
            "\u001b[0;31m---------------------------------------------------------------------------\u001b[0m",
            "\u001b[0;31mCalledProcessError\u001b[0m                        Traceback (most recent call last)",
            "\u001b[0;32m/tmp/ipython-input-4006376161.py\u001b[0m in \u001b[0;36m<cell line: 0>\u001b[0;34m()\u001b[0m\n\u001b[0;32m----> 1\u001b[0;31m \u001b[0mget_ipython\u001b[0m\u001b[0;34m(\u001b[0m\u001b[0;34m)\u001b[0m\u001b[0;34m.\u001b[0m\u001b[0mrun_cell_magic\u001b[0m\u001b[0;34m(\u001b[0m\u001b[0;34m'bash'\u001b[0m\u001b[0;34m,\u001b[0m \u001b[0;34m''\u001b[0m\u001b[0;34m,\u001b[0m \u001b[0;34m'set -e\\nCFG=/content/PaddleDetection/configs/mot/jde/jde_darknet53_30e_1088x608.yml\\n\\nCUDA_VISIBLE_DEVICES=0 python /content/PaddleDetection/tools/infer_mot.py \\\\\\n  -c \"$CFG\" \\\\\\n  -o weights=https://paddledet.bj.bcebos.com/models/mot/jde/jde_darknet53_30e_1088x608.pdparams \\\\\\n  --video_file=\"$video_path\" \\\\\\n  --save_videos\\n'\u001b[0m\u001b[0;34m)\u001b[0m\u001b[0;34m\u001b[0m\u001b[0;34m\u001b[0m\u001b[0m\n\u001b[0m",
            "\u001b[0;32m/usr/local/lib/python3.12/dist-packages/google/colab/_shell.py\u001b[0m in \u001b[0;36mrun_cell_magic\u001b[0;34m(self, magic_name, line, cell)\u001b[0m\n\u001b[1;32m    274\u001b[0m     \u001b[0;32mif\u001b[0m \u001b[0mline\u001b[0m \u001b[0;32mand\u001b[0m \u001b[0;32mnot\u001b[0m \u001b[0mcell\u001b[0m\u001b[0;34m:\u001b[0m\u001b[0;34m\u001b[0m\u001b[0;34m\u001b[0m\u001b[0m\n\u001b[1;32m    275\u001b[0m       \u001b[0mcell\u001b[0m \u001b[0;34m=\u001b[0m \u001b[0;34m' '\u001b[0m\u001b[0;34m\u001b[0m\u001b[0;34m\u001b[0m\u001b[0m\n\u001b[0;32m--> 276\u001b[0;31m     \u001b[0;32mreturn\u001b[0m \u001b[0msuper\u001b[0m\u001b[0;34m(\u001b[0m\u001b[0;34m)\u001b[0m\u001b[0;34m.\u001b[0m\u001b[0mrun_cell_magic\u001b[0m\u001b[0;34m(\u001b[0m\u001b[0mmagic_name\u001b[0m\u001b[0;34m,\u001b[0m \u001b[0mline\u001b[0m\u001b[0;34m,\u001b[0m \u001b[0mcell\u001b[0m\u001b[0;34m)\u001b[0m\u001b[0;34m\u001b[0m\u001b[0;34m\u001b[0m\u001b[0m\n\u001b[0m\u001b[1;32m    277\u001b[0m \u001b[0;34m\u001b[0m\u001b[0m\n\u001b[1;32m    278\u001b[0m \u001b[0;34m\u001b[0m\u001b[0m\n",
            "\u001b[0;32m/usr/local/lib/python3.12/dist-packages/IPython/core/interactiveshell.py\u001b[0m in \u001b[0;36mrun_cell_magic\u001b[0;34m(self, magic_name, line, cell)\u001b[0m\n\u001b[1;32m   2471\u001b[0m             \u001b[0;32mwith\u001b[0m \u001b[0mself\u001b[0m\u001b[0;34m.\u001b[0m\u001b[0mbuiltin_trap\u001b[0m\u001b[0;34m:\u001b[0m\u001b[0;34m\u001b[0m\u001b[0;34m\u001b[0m\u001b[0m\n\u001b[1;32m   2472\u001b[0m                 \u001b[0margs\u001b[0m \u001b[0;34m=\u001b[0m \u001b[0;34m(\u001b[0m\u001b[0mmagic_arg_s\u001b[0m\u001b[0;34m,\u001b[0m \u001b[0mcell\u001b[0m\u001b[0;34m)\u001b[0m\u001b[0;34m\u001b[0m\u001b[0;34m\u001b[0m\u001b[0m\n\u001b[0;32m-> 2473\u001b[0;31m                 \u001b[0mresult\u001b[0m \u001b[0;34m=\u001b[0m \u001b[0mfn\u001b[0m\u001b[0;34m(\u001b[0m\u001b[0;34m*\u001b[0m\u001b[0margs\u001b[0m\u001b[0;34m,\u001b[0m \u001b[0;34m**\u001b[0m\u001b[0mkwargs\u001b[0m\u001b[0;34m)\u001b[0m\u001b[0;34m\u001b[0m\u001b[0;34m\u001b[0m\u001b[0m\n\u001b[0m\u001b[1;32m   2474\u001b[0m             \u001b[0;32mreturn\u001b[0m \u001b[0mresult\u001b[0m\u001b[0;34m\u001b[0m\u001b[0;34m\u001b[0m\u001b[0m\n\u001b[1;32m   2475\u001b[0m \u001b[0;34m\u001b[0m\u001b[0m\n",
            "\u001b[0;32m/usr/local/lib/python3.12/dist-packages/IPython/core/magics/script.py\u001b[0m in \u001b[0;36mnamed_script_magic\u001b[0;34m(line, cell)\u001b[0m\n\u001b[1;32m    140\u001b[0m             \u001b[0;32melse\u001b[0m\u001b[0;34m:\u001b[0m\u001b[0;34m\u001b[0m\u001b[0;34m\u001b[0m\u001b[0m\n\u001b[1;32m    141\u001b[0m                 \u001b[0mline\u001b[0m \u001b[0;34m=\u001b[0m \u001b[0mscript\u001b[0m\u001b[0;34m\u001b[0m\u001b[0;34m\u001b[0m\u001b[0m\n\u001b[0;32m--> 142\u001b[0;31m             \u001b[0;32mreturn\u001b[0m \u001b[0mself\u001b[0m\u001b[0;34m.\u001b[0m\u001b[0mshebang\u001b[0m\u001b[0;34m(\u001b[0m\u001b[0mline\u001b[0m\u001b[0;34m,\u001b[0m \u001b[0mcell\u001b[0m\u001b[0;34m)\u001b[0m\u001b[0;34m\u001b[0m\u001b[0;34m\u001b[0m\u001b[0m\n\u001b[0m\u001b[1;32m    143\u001b[0m \u001b[0;34m\u001b[0m\u001b[0m\n\u001b[1;32m    144\u001b[0m         \u001b[0;31m# write a basic docstring:\u001b[0m\u001b[0;34m\u001b[0m\u001b[0;34m\u001b[0m\u001b[0m\n",
            "\u001b[0;32m<decorator-gen-103>\u001b[0m in \u001b[0;36mshebang\u001b[0;34m(self, line, cell)\u001b[0m\n",
            "\u001b[0;32m/usr/local/lib/python3.12/dist-packages/IPython/core/magic.py\u001b[0m in \u001b[0;36m<lambda>\u001b[0;34m(f, *a, **k)\u001b[0m\n\u001b[1;32m    185\u001b[0m     \u001b[0;31m# but it's overkill for just that one bit of state.\u001b[0m\u001b[0;34m\u001b[0m\u001b[0;34m\u001b[0m\u001b[0m\n\u001b[1;32m    186\u001b[0m     \u001b[0;32mdef\u001b[0m \u001b[0mmagic_deco\u001b[0m\u001b[0;34m(\u001b[0m\u001b[0marg\u001b[0m\u001b[0;34m)\u001b[0m\u001b[0;34m:\u001b[0m\u001b[0;34m\u001b[0m\u001b[0;34m\u001b[0m\u001b[0m\n\u001b[0;32m--> 187\u001b[0;31m         \u001b[0mcall\u001b[0m \u001b[0;34m=\u001b[0m \u001b[0;32mlambda\u001b[0m \u001b[0mf\u001b[0m\u001b[0;34m,\u001b[0m \u001b[0;34m*\u001b[0m\u001b[0ma\u001b[0m\u001b[0;34m,\u001b[0m \u001b[0;34m**\u001b[0m\u001b[0mk\u001b[0m\u001b[0;34m:\u001b[0m \u001b[0mf\u001b[0m\u001b[0;34m(\u001b[0m\u001b[0;34m*\u001b[0m\u001b[0ma\u001b[0m\u001b[0;34m,\u001b[0m \u001b[0;34m**\u001b[0m\u001b[0mk\u001b[0m\u001b[0;34m)\u001b[0m\u001b[0;34m\u001b[0m\u001b[0;34m\u001b[0m\u001b[0m\n\u001b[0m\u001b[1;32m    188\u001b[0m \u001b[0;34m\u001b[0m\u001b[0m\n\u001b[1;32m    189\u001b[0m         \u001b[0;32mif\u001b[0m \u001b[0mcallable\u001b[0m\u001b[0;34m(\u001b[0m\u001b[0marg\u001b[0m\u001b[0;34m)\u001b[0m\u001b[0;34m:\u001b[0m\u001b[0;34m\u001b[0m\u001b[0;34m\u001b[0m\u001b[0m\n",
            "\u001b[0;32m/usr/local/lib/python3.12/dist-packages/IPython/core/magics/script.py\u001b[0m in \u001b[0;36mshebang\u001b[0;34m(self, line, cell)\u001b[0m\n\u001b[1;32m    243\u001b[0m             \u001b[0msys\u001b[0m\u001b[0;34m.\u001b[0m\u001b[0mstderr\u001b[0m\u001b[0;34m.\u001b[0m\u001b[0mflush\u001b[0m\u001b[0;34m(\u001b[0m\u001b[0;34m)\u001b[0m\u001b[0;34m\u001b[0m\u001b[0;34m\u001b[0m\u001b[0m\n\u001b[1;32m    244\u001b[0m         \u001b[0;32mif\u001b[0m \u001b[0margs\u001b[0m\u001b[0;34m.\u001b[0m\u001b[0mraise_error\u001b[0m \u001b[0;32mand\u001b[0m \u001b[0mp\u001b[0m\u001b[0;34m.\u001b[0m\u001b[0mreturncode\u001b[0m\u001b[0;34m!=\u001b[0m\u001b[0;36m0\u001b[0m\u001b[0;34m:\u001b[0m\u001b[0;34m\u001b[0m\u001b[0;34m\u001b[0m\u001b[0m\n\u001b[0;32m--> 245\u001b[0;31m             \u001b[0;32mraise\u001b[0m \u001b[0mCalledProcessError\u001b[0m\u001b[0;34m(\u001b[0m\u001b[0mp\u001b[0m\u001b[0;34m.\u001b[0m\u001b[0mreturncode\u001b[0m\u001b[0;34m,\u001b[0m \u001b[0mcell\u001b[0m\u001b[0;34m,\u001b[0m \u001b[0moutput\u001b[0m\u001b[0;34m=\u001b[0m\u001b[0mout\u001b[0m\u001b[0;34m,\u001b[0m \u001b[0mstderr\u001b[0m\u001b[0;34m=\u001b[0m\u001b[0merr\u001b[0m\u001b[0;34m)\u001b[0m\u001b[0;34m\u001b[0m\u001b[0;34m\u001b[0m\u001b[0m\n\u001b[0m\u001b[1;32m    246\u001b[0m \u001b[0;34m\u001b[0m\u001b[0m\n\u001b[1;32m    247\u001b[0m     \u001b[0;32mdef\u001b[0m \u001b[0m_run_script\u001b[0m\u001b[0;34m(\u001b[0m\u001b[0mself\u001b[0m\u001b[0;34m,\u001b[0m \u001b[0mp\u001b[0m\u001b[0;34m,\u001b[0m \u001b[0mcell\u001b[0m\u001b[0;34m,\u001b[0m \u001b[0mto_close\u001b[0m\u001b[0;34m)\u001b[0m\u001b[0;34m:\u001b[0m\u001b[0;34m\u001b[0m\u001b[0;34m\u001b[0m\u001b[0m\n",
            "\u001b[0;31mCalledProcessError\u001b[0m: Command 'b'set -e\\nCFG=/content/PaddleDetection/configs/mot/jde/jde_darknet53_30e_1088x608.yml\\n\\nCUDA_VISIBLE_DEVICES=0 python /content/PaddleDetection/tools/infer_mot.py \\\\\\n  -c \"$CFG\" \\\\\\n  -o weights=https://paddledet.bj.bcebos.com/models/mot/jde/jde_darknet53_30e_1088x608.pdparams \\\\\\n  --video_file=\"$video_path\" \\\\\\n  --save_videos\\n'' returned non-zero exit status 255."
          ]
        }
      ],
      "source": [
        "%%bash\n",
        "set -e\n",
        "CFG=/content/PaddleDetection/configs/mot/jde/jde_darknet53_30e_1088x608.yml\n",
        "VIDEO=\"/content/TB_F_TB2_4019-2025-07-10_12h08min00s036ms.mp4\"\n",
        "URL=\"https://bj.bcebos.com/v1/paddledet/models/mot/jde_darknet53_30e_1088x608.pdparams\"\n",
        "\n",
        "CUDA_VISIBLE_DEVICES=0 python /content/PaddleDetection/tools/infer_mot.py \\\n",
        "  -c \"$CFG\" \\\n",
        "  -o JDEBBoxPostProcess.nms.nms_top_k=-1 JDEBBoxPostProcess.nms.keep_top_k=-1 \\\n",
        "     weights=\"$URL\" \\\n",
        "  --video_file \"$VIDEO\" \\\n",
        "  --save_videos"
      ]
    },
    {
      "cell_type": "code",
      "execution_count": null,
      "metadata": {
        "colab": {
          "base_uri": "https://localhost:8080/"
        },
        "id": "CMgYKjRDIoVN",
        "outputId": "0530a4d1-caf9-411a-8969-f942a12b2383"
      },
      "outputs": [
        {
          "name": "stdout",
          "output_type": "stream",
          "text": [
            "Detected FPS: 12.000199173430264\n"
          ]
        }
      ],
      "source": [
        "import subprocess\n",
        "\n",
        "video_path = \"/content/TB_F_TB2_4019-2025-07-10_12h08min00s036ms.mp4\"\n",
        "\n",
        "# Run ffprobe to get the avg_frame_rate as a string (e.g. \"30/1\" or \"1/1\")\n",
        "fps_str = subprocess.check_output([\n",
        "    \"ffprobe\", \"-v\", \"error\", \"-select_streams\", \"v:0\",\n",
        "    \"-show_entries\", \"stream=avg_frame_rate\",\n",
        "    \"-of\", \"default=noprint_wrappers=1:nokey=1\",\n",
        "    video_path\n",
        "]).decode().strip()\n",
        "\n",
        "# Convert to float\n",
        "num, den = map(int, fps_str.split(\"/\"))\n",
        "fps = num / den if den != 0 else 0\n",
        "\n",
        "print(\"Detected FPS:\", fps)\n"
      ]
    },
    {
      "cell_type": "code",
      "execution_count": null,
      "metadata": {
        "colab": {
          "base_uri": "https://localhost:8080/"
        },
        "id": "AALcuFwOIxRh",
        "outputId": "59c1d4ea-7805-487f-95bc-d2530618983d"
      },
      "outputs": [
        {
          "data": {
            "text/plain": [
              "CompletedProcess(args=['ffmpeg', '-y', '-r', '12.000199173430264', '-i', 'output/mot_outputs/TB_F_TB2_4019-2025-07-10_12h08min00s036ms/%05d.jpg', '-c:v', 'libx264', '-pix_fmt', 'yuv420p', 'output/mot_outputs/TB_F_TB2_4019-2025-07-10_12h08min00s036ms_vis_fixedfps.mp4'], returncode=0)"
            ]
          },
          "execution_count": 20,
          "metadata": {},
          "output_type": "execute_result"
        }
      ],
      "source": [
        "output_pattern = \"output/mot_outputs/TB_F_TB2_4019-2025-07-10_12h08min00s036ms/%05d.jpg\"\n",
        "output_file = \"output/mot_outputs/TB_F_TB2_4019-2025-07-10_12h08min00s036ms_vis_fixedfps.mp4\"\n",
        "\n",
        "subprocess.run([\n",
        "    \"ffmpeg\", \"-y\",\n",
        "    \"-r\", str(fps),              # use detected FPS\n",
        "    \"-i\", output_pattern,\n",
        "    \"-c:v\", \"libx264\", \"-pix_fmt\", \"yuv420p\",\n",
        "    output_file\n",
        "])"
      ]
    },
    {
      "cell_type": "code",
      "execution_count": null,
      "metadata": {
        "id": "-FpqADCM2iiC"
      },
      "outputs": [],
      "source": [
        "%%bash\n",
        "\n",
        "#CUDA_VISIBLE_DEVICES=0\n",
        "#python PaddleDetection/tools/infer_mot.py -c PaddleDetection/configs/mot/jde/jde_darknet53_30e_1088x608.yml -o weights=https://paddledet.bj.bcebos.com/models/mot/jde_darknet53_30e_1088x608.pdparams --video_file=fixed_test_r1_c0_x0_y440_20250904T073613.mp4  --save_videos"
      ]
    },
    {
      "cell_type": "code",
      "execution_count": null,
      "metadata": {
        "id": "owHVatRR3qKq"
      },
      "outputs": [],
      "source": []
    }
  ],
  "metadata": {
    "colab": {
      "provenance": []
    },
    "kernelspec": {
      "display_name": "Python 3",
      "name": "python3"
    },
    "language_info": {
      "name": "python"
    }
  },
  "nbformat": 4,
  "nbformat_minor": 0
}
